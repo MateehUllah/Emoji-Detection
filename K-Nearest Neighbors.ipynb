{
  "nbformat": 4,
  "nbformat_minor": 0,
  "metadata": {
    "colab": {
      "name": "19L-2313_FR_KNN.ipynb",
      "provenance": []
    },
    "kernelspec": {
      "name": "python3",
      "display_name": "Python 3"
    },
    "language_info": {
      "name": "python"
    }
  },
  "cells": [
    {
      "cell_type": "code",
      "execution_count": 1,
      "metadata": {
        "id": "LQg7jmXXO42A"
      },
      "outputs": [],
      "source": [
        "from zipfile import ZipFile"
      ]
    },
    {
      "cell_type": "code",
      "source": [
        "with ZipFile('Data.zip', 'r') as f:\n",
        "  f.extractall('/content/')"
      ],
      "metadata": {
        "id": "3Sjrn_C5PftU"
      },
      "execution_count": 7,
      "outputs": []
    },
    {
      "cell_type": "code",
      "source": [
        "import os"
      ],
      "metadata": {
        "id": "sHdi6DRdPgjd"
      },
      "execution_count": 8,
      "outputs": []
    },
    {
      "cell_type": "code",
      "source": [
        "import numpy as np"
      ],
      "metadata": {
        "id": "QVmF2ke8PmNK"
      },
      "execution_count": 9,
      "outputs": []
    },
    {
      "cell_type": "code",
      "source": [
        "import pandas as pd"
      ],
      "metadata": {
        "id": "hOHoG7WKPn7q"
      },
      "execution_count": 10,
      "outputs": []
    },
    {
      "cell_type": "code",
      "source": [
        "import cv2 as cv"
      ],
      "metadata": {
        "id": "FCPkB38BPp8U"
      },
      "execution_count": 11,
      "outputs": []
    },
    {
      "cell_type": "code",
      "source": [
        "def load_data(dir_path,labels):\n",
        "    img_size=(100,100)\n",
        "    X = []\n",
        "    label = []\n",
        "    for path in sorted(os.listdir(dir_path)):\n",
        "      # print(path)\n",
        "      if path!=\".DS_Store\":\n",
        "        image = cv.imread(dir_path + path,-1)\n",
        "        image = cv.resize(image,img_size)\n",
        "        X.append(image)\n",
        "        label.append(labels)\n",
        "    X = np.array(X)\n",
        "    label = np.array(label)\n",
        "    print(f'{len(X)} images loaded from {dir_path} directory.')\n",
        "    return X,label"
      ],
      "metadata": {
        "id": "iPuV_hRhPub2"
      },
      "execution_count": 12,
      "outputs": []
    },
    {
      "cell_type": "code",
      "source": [
        "angry,ang_lab = load_data('Data/angry/',0)"
      ],
      "metadata": {
        "colab": {
          "base_uri": "https://localhost:8080/"
        },
        "id": "4q1pqN8mP3K0",
        "outputId": "371e2428-eff2-4ff5-fd7b-10d4afb3a8ea"
      },
      "execution_count": 13,
      "outputs": [
        {
          "output_type": "stream",
          "name": "stdout",
          "text": [
            "150 images loaded from Data/angry/ directory.\n"
          ]
        }
      ]
    },
    {
      "cell_type": "code",
      "source": [
        "sad,sad_label = load_data('Data/sad/',1)"
      ],
      "metadata": {
        "colab": {
          "base_uri": "https://localhost:8080/"
        },
        "id": "9Fp0oY6vP7eH",
        "outputId": "3c62d792-2370-4322-a505-6eebf50833cf"
      },
      "execution_count": 14,
      "outputs": [
        {
          "output_type": "stream",
          "name": "stdout",
          "text": [
            "151 images loaded from Data/sad/ directory.\n"
          ]
        }
      ]
    },
    {
      "cell_type": "code",
      "source": [
        "happy,hap_label = load_data('Data/happy/',2)"
      ],
      "metadata": {
        "colab": {
          "base_uri": "https://localhost:8080/"
        },
        "id": "0lboJLzqP-RD",
        "outputId": "49eb06b2-385a-42b1-b26d-dcb8c853809a"
      },
      "execution_count": 15,
      "outputs": [
        {
          "output_type": "stream",
          "name": "stdout",
          "text": [
            "151 images loaded from Data/happy/ directory.\n"
          ]
        }
      ]
    },
    {
      "cell_type": "code",
      "source": [
        "normal,norm_label = load_data('Data/normal/',3)"
      ],
      "metadata": {
        "colab": {
          "base_uri": "https://localhost:8080/"
        },
        "id": "eFInsoLCQAxh",
        "outputId": "bce29044-ab5a-42f3-b29b-f367728eadee"
      },
      "execution_count": 16,
      "outputs": [
        {
          "output_type": "stream",
          "name": "stdout",
          "text": [
            "148 images loaded from Data/normal/ directory.\n"
          ]
        }
      ]
    },
    {
      "cell_type": "code",
      "source": [
        "confused,conf_label = load_data('Data/confused/',4)"
      ],
      "metadata": {
        "colab": {
          "base_uri": "https://localhost:8080/"
        },
        "id": "FeFm1FoEQDEN",
        "outputId": "f2eff046-9063-4ecf-ee2c-c5afd08e638b"
      },
      "execution_count": 17,
      "outputs": [
        {
          "output_type": "stream",
          "name": "stdout",
          "text": [
            "147 images loaded from Data/confused/ directory.\n"
          ]
        }
      ]
    },
    {
      "cell_type": "code",
      "source": [
        "surprised,sur_label = load_data('Data/surprised/',5)"
      ],
      "metadata": {
        "colab": {
          "base_uri": "https://localhost:8080/"
        },
        "id": "oZUyyYGdQF_v",
        "outputId": "2f8022fe-a192-4f07-bc33-a8a07758b3d9"
      },
      "execution_count": 18,
      "outputs": [
        {
          "output_type": "stream",
          "name": "stdout",
          "text": [
            "150 images loaded from Data/surprised/ directory.\n"
          ]
        }
      ]
    },
    {
      "cell_type": "code",
      "source": [
        "import matplotlib.pyplot as plt\n",
        "plt.imshow(angry[1])"
      ],
      "metadata": {
        "colab": {
          "base_uri": "https://localhost:8080/",
          "height": 285
        },
        "id": "EubAJHK4QIpn",
        "outputId": "4343a6b3-0fa1-4de9-b851-25423d67e16c"
      },
      "execution_count": 19,
      "outputs": [
        {
          "output_type": "execute_result",
          "data": {
            "text/plain": [
              "<matplotlib.image.AxesImage at 0x7f12e8fef0d0>"
            ]
          },
          "metadata": {},
          "execution_count": 19
        },
        {
          "output_type": "display_data",
          "data": {
            "text/plain": [
              "<Figure size 432x288 with 1 Axes>"
            ],
            "image/png": "[encoded data removed]"
          },
          "metadata": {
            "needs_background": "light"
          }
        }
      ]
    },
    {
      "cell_type": "code",
      "source": [
        "plt.imshow(sad[1])"
      ],
      "metadata": {
        "colab": {
          "base_uri": "https://localhost:8080/",
          "height": 285
        },
        "id": "c4UxXZsqQMML",
        "outputId": "f02d4b82-2954-481f-bad6-435f0d020a71"
      },
      "execution_count": 20,
      "outputs": [
        {
          "output_type": "execute_result",
          "data": {
            "text/plain": [
              "<matplotlib.image.AxesImage at 0x7f12df5a6590>"
            ]
          },
          "metadata": {},
          "execution_count": 20
        },
        {
          "output_type": "display_data",
          "data": {
            "text/plain": [
              "<Figure size 432x288 with 1 Axes>"
            ],
            "image/png": "[encoded data removed]"
          },
          "metadata": {
            "needs_background": "light"
          }
        }
      ]
    },
    {
      "cell_type": "code",
      "source": [
        "hap_label"
      ],
      "metadata": {
        "colab": {
          "base_uri": "https://localhost:8080/"
        },
        "id": "NGIqr023QV1x",
        "outputId": "d1bcca9f-4264-4633-a353-dc24bdee2834"
      },
      "execution_count": 21,
      "outputs": [
        {
          "output_type": "execute_result",
          "data": {
            "text/plain": [
              "array([2, 2, 2, 2, 2, 2, 2, 2, 2, 2, 2, 2, 2, 2, 2, 2, 2, 2, 2, 2, 2, 2,\n",
              "       2, 2, 2, 2, 2, 2, 2, 2, 2, 2, 2, 2, 2, 2, 2, 2, 2, 2, 2, 2, 2, 2,\n",
              "       2, 2, 2, 2, 2, 2, 2, 2, 2, 2, 2, 2, 2, 2, 2, 2, 2, 2, 2, 2, 2, 2,\n",
              "       2, 2, 2, 2, 2, 2, 2, 2, 2, 2, 2, 2, 2, 2, 2, 2, 2, 2, 2, 2, 2, 2,\n",
              "       2, 2, 2, 2, 2, 2, 2, 2, 2, 2, 2, 2, 2, 2, 2, 2, 2, 2, 2, 2, 2, 2,\n",
              "       2, 2, 2, 2, 2, 2, 2, 2, 2, 2, 2, 2, 2, 2, 2, 2, 2, 2, 2, 2, 2, 2,\n",
              "       2, 2, 2, 2, 2, 2, 2, 2, 2, 2, 2, 2, 2, 2, 2, 2, 2, 2, 2])"
            ]
          },
          "metadata": {},
          "execution_count": 21
        }
      ]
    },
    {
      "cell_type": "code",
      "source": [
        "X=np.concatenate((angry,sad,happy,normal,confused,surprised))"
      ],
      "metadata": {
        "id": "KdFjZpJCQY32"
      },
      "execution_count": 22,
      "outputs": []
    },
    {
      "cell_type": "code",
      "source": [
        "X"
      ],
      "metadata": {
        "colab": {
          "base_uri": "https://localhost:8080/"
        },
        "id": "NAIlALl9Qb_T",
        "outputId": "d4e06eb3-0391-4856-c174-fba051139ea9"
      },
      "execution_count": 23,
      "outputs": [
        {
          "output_type": "execute_result",
          "data": {
            "text/plain": [
              "array([[[159, 158, 156, ..., 146, 147, 147],\n",
              "        [159, 158, 157, ..., 149, 149, 150],\n",
              "        [156, 155, 155, ..., 148, 148, 148],\n",
              "        ...,\n",
              "        [159, 156, 155, ..., 144, 144, 145],\n",
              "        [160, 158, 157, ..., 145, 145, 145],\n",
              "        [161, 158, 158, ..., 146, 145, 144]],\n",
              "\n",
              "       [[180, 181, 182, ..., 195, 195, 195],\n",
              "        [180, 181, 182, ..., 195, 195, 195],\n",
              "        [180, 181, 182, ..., 195, 195, 195],\n",
              "        ...,\n",
              "        [179, 178, 177, ..., 180, 180, 180],\n",
              "        [179, 178, 178, ..., 182, 182, 182],\n",
              "        [180, 179, 178, ..., 183, 183, 183]],\n",
              "\n",
              "       [[152, 149, 147, ..., 119, 120, 120],\n",
              "        [142, 140, 138, ..., 155, 155, 155],\n",
              "        [121, 119, 117, ..., 163, 162, 162],\n",
              "        ...,\n",
              "        [151, 151, 150, ..., 154, 156, 158],\n",
              "        [148, 149, 148, ..., 147, 149, 151],\n",
              "        [149, 150, 150, ..., 147, 146, 146]],\n",
              "\n",
              "       ...,\n",
              "\n",
              "       [[130, 130, 130, ..., 255, 255, 255],\n",
              "        [130, 130, 130, ..., 255, 255, 255],\n",
              "        [130, 130, 130, ..., 255, 255, 255],\n",
              "        ...,\n",
              "        [255, 255, 255, ..., 255, 255, 255],\n",
              "        [255, 255, 255, ..., 255, 255, 255],\n",
              "        [255, 255, 255, ..., 255, 255, 255]],\n",
              "\n",
              "       [[123, 123, 123, ..., 163, 164, 164],\n",
              "        [151, 151, 151, ..., 126, 127, 127],\n",
              "        [160, 160, 160, ...,  79,  80,  80],\n",
              "        ...,\n",
              "        [157, 157, 157, ..., 164, 164, 164],\n",
              "        [155, 155, 156, ..., 164, 164, 164],\n",
              "        [152, 153, 155, ..., 164, 164, 164]],\n",
              "\n",
              "       [[169, 169, 168, ..., 158, 138, 159],\n",
              "        [168, 168, 168, ..., 157, 130, 159],\n",
              "        [168, 168, 168, ..., 157, 140, 156],\n",
              "        ...,\n",
              "        [160, 158, 158, ..., 167, 170, 172],\n",
              "        [161, 160, 159, ..., 171, 171, 171],\n",
              "        [161, 160, 159, ..., 172, 172, 172]]], dtype=uint8)"
            ]
          },
          "metadata": {},
          "execution_count": 23
        }
      ]
    },
    {
      "cell_type": "code",
      "source": [
        "X.shape"
      ],
      "metadata": {
        "colab": {
          "base_uri": "https://localhost:8080/"
        },
        "id": "hM4gQeipQe4v",
        "outputId": "bc5eeae0-04b4-499e-ffee-e37788f2a495"
      },
      "execution_count": 24,
      "outputs": [
        {
          "output_type": "execute_result",
          "data": {
            "text/plain": [
              "(897, 100, 100)"
            ]
          },
          "metadata": {},
          "execution_count": 24
        }
      ]
    },
    {
      "cell_type": "code",
      "source": [
        "Y=np.concatenate((ang_lab,sad_label,hap_label,norm_label,conf_label,sur_label))"
      ],
      "metadata": {
        "id": "t61iqFQTQhwe"
      },
      "execution_count": 25,
      "outputs": []
    },
    {
      "cell_type": "code",
      "source": [
        "Y"
      ],
      "metadata": {
        "colab": {
          "base_uri": "https://localhost:8080/"
        },
        "id": "JHOVhzExQk3T",
        "outputId": "c36a90b4-468c-4eba-9db3-7bf256a53399"
      },
      "execution_count": 26,
      "outputs": [
        {
          "output_type": "execute_result",
          "data": {
            "text/plain": [
              "array([0, 0, 0, 0, 0, 0, 0, 0, 0, 0, 0, 0, 0, 0, 0, 0, 0, 0, 0, 0, 0, 0,\n",
              "       0, 0, 0, 0, 0, 0, 0, 0, 0, 0, 0, 0, 0, 0, 0, 0, 0, 0, 0, 0, 0, 0,\n",
              "       0, 0, 0, 0, 0, 0, 0, 0, 0, 0, 0, 0, 0, 0, 0, 0, 0, 0, 0, 0, 0, 0,\n",
              "       0, 0, 0, 0, 0, 0, 0, 0, 0, 0, 0, 0, 0, 0, 0, 0, 0, 0, 0, 0, 0, 0,\n",
              "       0, 0, 0, 0, 0, 0, 0, 0, 0, 0, 0, 0, 0, 0, 0, 0, 0, 0, 0, 0, 0, 0,\n",
              "       0, 0, 0, 0, 0, 0, 0, 0, 0, 0, 0, 0, 0, 0, 0, 0, 0, 0, 0, 0, 0, 0,\n",
              "       0, 0, 0, 0, 0, 0, 0, 0, 0, 0, 0, 0, 0, 0, 0, 0, 0, 0, 1, 1, 1, 1,\n",
              "       1, 1, 1, 1, 1, 1, 1, 1, 1, 1, 1, 1, 1, 1, 1, 1, 1, 1, 1, 1, 1, 1,\n",
              "       1, 1, 1, 1, 1, 1, 1, 1, 1, 1, 1, 1, 1, 1, 1, 1, 1, 1, 1, 1, 1, 1,\n",
              "       1, 1, 1, 1, 1, 1, 1, 1, 1, 1, 1, 1, 1, 1, 1, 1, 1, 1, 1, 1, 1, 1,\n",
              "       1, 1, 1, 1, 1, 1, 1, 1, 1, 1, 1, 1, 1, 1, 1, 1, 1, 1, 1, 1, 1, 1,\n",
              "       1, 1, 1, 1, 1, 1, 1, 1, 1, 1, 1, 1, 1, 1, 1, 1, 1, 1, 1, 1, 1, 1,\n",
              "       1, 1, 1, 1, 1, 1, 1, 1, 1, 1, 1, 1, 1, 1, 1, 1, 1, 1, 1, 1, 1, 1,\n",
              "       1, 1, 1, 1, 1, 1, 1, 1, 1, 1, 1, 1, 1, 1, 1, 2, 2, 2, 2, 2, 2, 2,\n",
              "       2, 2, 2, 2, 2, 2, 2, 2, 2, 2, 2, 2, 2, 2, 2, 2, 2, 2, 2, 2, 2, 2,\n",
              "       2, 2, 2, 2, 2, 2, 2, 2, 2, 2, 2, 2, 2, 2, 2, 2, 2, 2, 2, 2, 2, 2,\n",
              "       2, 2, 2, 2, 2, 2, 2, 2, 2, 2, 2, 2, 2, 2, 2, 2, 2, 2, 2, 2, 2, 2,\n",
              "       2, 2, 2, 2, 2, 2, 2, 2, 2, 2, 2, 2, 2, 2, 2, 2, 2, 2, 2, 2, 2, 2,\n",
              "       2, 2, 2, 2, 2, 2, 2, 2, 2, 2, 2, 2, 2, 2, 2, 2, 2, 2, 2, 2, 2, 2,\n",
              "       2, 2, 2, 2, 2, 2, 2, 2, 2, 2, 2, 2, 2, 2, 2, 2, 2, 2, 2, 2, 2, 2,\n",
              "       2, 2, 2, 2, 2, 2, 2, 2, 2, 2, 2, 2, 3, 3, 3, 3, 3, 3, 3, 3, 3, 3,\n",
              "       3, 3, 3, 3, 3, 3, 3, 3, 3, 3, 3, 3, 3, 3, 3, 3, 3, 3, 3, 3, 3, 3,\n",
              "       3, 3, 3, 3, 3, 3, 3, 3, 3, 3, 3, 3, 3, 3, 3, 3, 3, 3, 3, 3, 3, 3,\n",
              "       3, 3, 3, 3, 3, 3, 3, 3, 3, 3, 3, 3, 3, 3, 3, 3, 3, 3, 3, 3, 3, 3,\n",
              "       3, 3, 3, 3, 3, 3, 3, 3, 3, 3, 3, 3, 3, 3, 3, 3, 3, 3, 3, 3, 3, 3,\n",
              "       3, 3, 3, 3, 3, 3, 3, 3, 3, 3, 3, 3, 3, 3, 3, 3, 3, 3, 3, 3, 3, 3,\n",
              "       3, 3, 3, 3, 3, 3, 3, 3, 3, 3, 3, 3, 3, 3, 3, 3, 3, 3, 3, 3, 3, 3,\n",
              "       3, 3, 3, 3, 3, 3, 4, 4, 4, 4, 4, 4, 4, 4, 4, 4, 4, 4, 4, 4, 4, 4,\n",
              "       4, 4, 4, 4, 4, 4, 4, 4, 4, 4, 4, 4, 4, 4, 4, 4, 4, 4, 4, 4, 4, 4,\n",
              "       4, 4, 4, 4, 4, 4, 4, 4, 4, 4, 4, 4, 4, 4, 4, 4, 4, 4, 4, 4, 4, 4,\n",
              "       4, 4, 4, 4, 4, 4, 4, 4, 4, 4, 4, 4, 4, 4, 4, 4, 4, 4, 4, 4, 4, 4,\n",
              "       4, 4, 4, 4, 4, 4, 4, 4, 4, 4, 4, 4, 4, 4, 4, 4, 4, 4, 4, 4, 4, 4,\n",
              "       4, 4, 4, 4, 4, 4, 4, 4, 4, 4, 4, 4, 4, 4, 4, 4, 4, 4, 4, 4, 4, 4,\n",
              "       4, 4, 4, 4, 4, 4, 4, 4, 4, 4, 4, 4, 4, 4, 4, 4, 4, 4, 4, 4, 4, 5,\n",
              "       5, 5, 5, 5, 5, 5, 5, 5, 5, 5, 5, 5, 5, 5, 5, 5, 5, 5, 5, 5, 5, 5,\n",
              "       5, 5, 5, 5, 5, 5, 5, 5, 5, 5, 5, 5, 5, 5, 5, 5, 5, 5, 5, 5, 5, 5,\n",
              "       5, 5, 5, 5, 5, 5, 5, 5, 5, 5, 5, 5, 5, 5, 5, 5, 5, 5, 5, 5, 5, 5,\n",
              "       5, 5, 5, 5, 5, 5, 5, 5, 5, 5, 5, 5, 5, 5, 5, 5, 5, 5, 5, 5, 5, 5,\n",
              "       5, 5, 5, 5, 5, 5, 5, 5, 5, 5, 5, 5, 5, 5, 5, 5, 5, 5, 5, 5, 5, 5,\n",
              "       5, 5, 5, 5, 5, 5, 5, 5, 5, 5, 5, 5, 5, 5, 5, 5, 5, 5, 5, 5, 5, 5,\n",
              "       5, 5, 5, 5, 5, 5, 5, 5, 5, 5, 5, 5, 5, 5, 5, 5, 5])"
            ]
          },
          "metadata": {},
          "execution_count": 26
        }
      ]
    },
    {
      "cell_type": "code",
      "source": [
        "Y.shape"
      ],
      "metadata": {
        "colab": {
          "base_uri": "https://localhost:8080/"
        },
        "id": "mHqDcLyVQwx_",
        "outputId": "b60eaf87-93e8-488b-cceb-4bca15929cdd"
      },
      "execution_count": 27,
      "outputs": [
        {
          "output_type": "execute_result",
          "data": {
            "text/plain": [
              "(897,)"
            ]
          },
          "metadata": {},
          "execution_count": 27
        }
      ]
    },
    {
      "cell_type": "code",
      "source": [
        "from sklearn.model_selection import train_test_split\n",
        "X=X.reshape(-1,100*100)\n",
        "X_train,X_test,y_train,y_test=train_test_split(X,Y,test_size=0.33,random_state=99,stratify=Y)"
      ],
      "metadata": {
        "id": "fpZp4zw4RsYe"
      },
      "execution_count": 30,
      "outputs": []
    },
    {
      "cell_type": "code",
      "source": [
        "from sklearn.neighbors import KNeighborsClassifier\n",
        "knn=KNeighborsClassifier(n_neighbors=3)\n",
        "knn.fit(X_train,y_train)  "
      ],
      "metadata": {
        "id": "yKRiaQEGQ0z9",
        "colab": {
          "base_uri": "https://localhost:8080/"
        },
        "outputId": "669c9e76-29ea-4b18-d1fb-bcdce1a4af86"
      },
      "execution_count": 31,
      "outputs": [
        {
          "output_type": "execute_result",
          "data": {
            "text/plain": [
              "KNeighborsClassifier(n_neighbors=3)"
            ]
          },
          "metadata": {},
          "execution_count": 31
        }
      ]
    },
    {
      "cell_type": "code",
      "source": [
        "y_pred=knn.predict(X_test)\n",
        "y_pred"
      ],
      "metadata": {
        "id": "mtKS33eOQ9mi",
        "colab": {
          "base_uri": "https://localhost:8080/"
        },
        "outputId": "4338ded1-bd92-44a2-b4c4-a916bee83057"
      },
      "execution_count": 32,
      "outputs": [
        {
          "output_type": "execute_result",
          "data": {
            "text/plain": [
              "array([3, 1, 0, 4, 0, 4, 2, 0, 2, 0, 5, 5, 0, 2, 1, 4, 3, 1, 3, 1, 5, 4,\n",
              "       1, 3, 2, 0, 1, 0, 1, 4, 5, 2, 3, 0, 1, 1, 3, 1, 3, 0, 0, 0, 3, 3,\n",
              "       3, 2, 0, 1, 2, 1, 0, 0, 3, 1, 1, 2, 3, 0, 3, 1, 1, 3, 2, 1, 0, 0,\n",
              "       3, 5, 1, 1, 5, 2, 0, 2, 3, 3, 0, 1, 1, 5, 1, 3, 5, 1, 1, 2, 2, 0,\n",
              "       0, 0, 0, 0, 0, 2, 1, 3, 1, 0, 3, 5, 1, 5, 0, 1, 1, 5, 3, 3, 0, 3,\n",
              "       4, 3, 3, 4, 3, 0, 3, 1, 1, 2, 5, 3, 1, 0, 4, 3, 0, 0, 0, 0, 1, 0,\n",
              "       2, 3, 2, 5, 1, 0, 0, 2, 2, 3, 1, 1, 3, 0, 3, 1, 3, 1, 5, 0, 0, 3,\n",
              "       1, 1, 3, 1, 2, 0, 1, 3, 0, 1, 2, 2, 4, 5, 1, 1, 5, 3, 3, 2, 0, 1,\n",
              "       1, 3, 5, 1, 1, 1, 0, 2, 2, 1, 3, 2, 1, 3, 0, 0, 5, 1, 3, 2, 0, 1,\n",
              "       0, 3, 5, 5, 1, 3, 2, 1, 0, 1, 2, 0, 1, 1, 1, 4, 0, 2, 5, 0, 2, 4,\n",
              "       1, 0, 0, 1, 0, 1, 2, 4, 2, 1, 2, 5, 0, 1, 2, 3, 0, 2, 5, 2, 2, 3,\n",
              "       5, 0, 2, 0, 2, 1, 5, 5, 0, 1, 5, 1, 5, 0, 5, 0, 1, 5, 1, 0, 3, 0,\n",
              "       3, 3, 2, 0, 0, 1, 1, 0, 0, 4, 0, 4, 3, 3, 3, 5, 5, 5, 5, 1, 0, 0,\n",
              "       0, 5, 1, 3, 5, 3, 3, 0, 0, 0, 0])"
            ]
          },
          "metadata": {},
          "execution_count": 32
        }
      ]
    },
    {
      "cell_type": "code",
      "source": [
        "from sklearn.metrics import classification_report\n",
        "report=classification_report(y_test,y_pred)\n",
        "print(report)"
      ],
      "metadata": {
        "colab": {
          "base_uri": "https://localhost:8080/"
        },
        "id": "3ztd5nM-RB-V",
        "outputId": "d1deb676-6f81-48c5-d25a-7d351d8267e2"
      },
      "execution_count": 33,
      "outputs": [
        {
          "output_type": "stream",
          "name": "stdout",
          "text": [
            "              precision    recall  f1-score   support\n",
            "\n",
            "           0       0.38      0.59      0.46        49\n",
            "           1       0.32      0.48      0.39        50\n",
            "           2       0.41      0.34      0.37        50\n",
            "           3       0.32      0.37      0.34        49\n",
            "           4       0.43      0.12      0.19        49\n",
            "           5       0.39      0.28      0.33        50\n",
            "\n",
            "    accuracy                           0.36       297\n",
            "   macro avg       0.38      0.36      0.35       297\n",
            "weighted avg       0.38      0.36      0.35       297\n",
            "\n"
          ]
        }
      ]
    },
    {
      "cell_type": "code",
      "source": [
        "from sklearn.metrics import confusion_matrix\n",
        "confusion=confusion_matrix(y_true=y_test,y_pred=y_pred)\n",
        "print(confusion)\n"
      ],
      "metadata": {
        "id": "lskibDuORVrb",
        "colab": {
          "base_uri": "https://localhost:8080/"
        },
        "outputId": "a023c829-ba86-40c5-dcfb-132c72f71b5c"
      },
      "execution_count": 34,
      "outputs": [
        {
          "output_type": "stream",
          "name": "stdout",
          "text": [
            "[[29  5  5  5  1  4]\n",
            " [10 24  2  9  1  4]\n",
            " [ 6 13 17  6  0  8]\n",
            " [ 9 12  5 18  3  2]\n",
            " [ 6 12  8 13  6  4]\n",
            " [16  8  4  5  3 14]]\n"
          ]
        }
      ]
    },
    {
      "cell_type": "code",
      "source": [
        "import seaborn as sns\n",
        "temp=sns.heatmap(confusion,annot=True,cmap='nipy_spectral_r')\n",
        "temp.set_title('Visualize confusion matrix')\n",
        "None"
      ],
      "metadata": {
        "id": "5XTnZ2YLRcNA",
        "colab": {
          "base_uri": "https://localhost:8080/",
          "height": 281
        },
        "outputId": "f74d1647-9d55-47fd-8c40-16904448e202"
      },
      "execution_count": 35,
      "outputs": [
        {
          "output_type": "display_data",
          "data": {
            "text/plain": [
              "<Figure size 432x288 with 2 Axes>"
            ],
            "image/png": "[encoded data removed]"
          },
          "metadata": {
            "needs_background": "light"
          }
        }
      ]
    },
    {
      "cell_type": "code",
      "source": [
        "accuracy=knn.score(X_test,y_test)\n",
        "print(\"Accuracy using knn is:\",accuracy)\n",
        "\n",
        "from sklearn import metrics\n",
        "accuracy=metrics.accuracy_score(y_test,y_pred)\n",
        "print(\"Accuracy from metrics accuracy_score:\",accuracy)"
      ],
      "metadata": {
        "id": "r9XutDnmT3My",
        "colab": {
          "base_uri": "https://localhost:8080/"
        },
        "outputId": "0f58fa70-fb1b-4cfe-99be-942ef244761d"
      },
      "execution_count": 36,
      "outputs": [
        {
          "output_type": "stream",
          "name": "stdout",
          "text": [
            "Accuracy using knn is: 0.36363636363636365\n",
            "Accuracy from metrics accuracy_score: 0.36363636363636365\n"
          ]
        }
      ]
    },
    {
      "cell_type": "markdown",
      "source": [
        "Now we are going to use balance accuracy because overall accuracy may not be good measure .So, balance accuracy is the type of accuracy that assume the number of samples for each target is same."
      ],
      "metadata": {
        "id": "fCtJrDC5XJPD"
      }
    },
    {
      "cell_type": "code",
      "source": [
        "acc=metrics.balanced_accuracy_score(y_test,y_pred)\n",
        "print(\"Accuracy:\",accuracy)"
      ],
      "metadata": {
        "colab": {
          "base_uri": "https://localhost:8080/"
        },
        "id": "Mrj9bA3TXKyt",
        "outputId": "8b3d6d4c-4719-453a-992e-456216e395b0"
      },
      "execution_count": 37,
      "outputs": [
        {
          "output_type": "stream",
          "name": "stdout",
          "text": [
            "Accuracy: 0.36363636363636365\n"
          ]
        }
      ]
    }
  ]
}